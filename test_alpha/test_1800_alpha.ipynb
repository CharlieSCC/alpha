{
 "cells": [
  {
   "cell_type": "code",
   "execution_count": null,
   "id": "5861d6d3-ef7f-4dfb-a34f-1dc17c01f543",
   "metadata": {},
   "outputs": [],
   "source": [
    "import pandas as pd\n",
    "import numpy as np\n",
    "import os\n",
    "\n",
    "\n",
    "from alpha.data.underlying import *\n",
    "from alpha.factor.alpha_101 import *\n",
    "from alpha.config.config import *\n",
    "\n",
    "from alpha.eval.eval import *\n",
    "from alpha.eval.backtest import *\n",
    "from alpha.eval.attention_plot import *"
   ]
  },
  {
   "cell_type": "markdown",
   "id": "3fa727cc-b296-4667-8d5d-0bf0e79774e7",
   "metadata": {},
   "source": [
    "# Factor_list"
   ]
  },
  {
   "cell_type": "code",
   "execution_count": 2,
   "id": "2ae1f21b-3c42-4970-9bcf-2c8f36fa14d6",
   "metadata": {},
   "outputs": [],
   "source": [
    "factor_list = ['alphas_101_alpha_035',\n",
    "               'alphas_101_alpha_038',\n",
    "               'alphas_101_alpha_040',\n",
    "               'alphas_101_alpha_043',\n",
    "               'alphas_101_alpha_045',\n",
    "               'alphas_101_alpha_049',\n",
    "               'alphas_101_alpha_051',\n",
    "               'alphas_101_alpha_053',\n",
    "               'alphas_101_alpha_055',\n",
    "               'alphas_101_alpha_060',\n",
    "               'alphas_101_alpha_085',\n",
    "               'alphas_101_alpha_001',\n",
    "               'alphas_101_alpha_002',\n",
    "               'alphas_101_alpha_003',\n",
    "               'alphas_101_alpha_004',\n",
    "               'alphas_101_alpha_006',\n",
    "               'alphas_101_alpha_007',\n",
    "               'alphas_101_alpha_008',\n",
    "               'alphas_101_alpha_009',\n",
    "               'alphas_101_alpha_010',\n",
    "               'alphas_101_alpha_012',\n",
    "               'alphas_101_alpha_013',\n",
    "               'alphas_101_alpha_014',\n",
    "               'alphas_101_alpha_015',\n",
    "               'alphas_101_alpha_016',\n",
    "               'alphas_101_alpha_017',\n",
    "               'alphas_101_alpha_018',\n",
    "               'alphas_101_alpha_019',\n",
    "               'alphas_101_alpha_020',\n",
    "               'alphas_101_alpha_021',\n",
    "               'alphas_101_alpha_022',\n",
    "               'alphas_101_alpha_023',\n",
    "               'alphas_101_alpha_024',\n",
    "               'alphas_101_alpha_026',\n",
    "               'alphas_101_alpha_028',\n",
    "               'alphas_101_alpha_029',\n",
    "               'alphas_101_alpha_030',\n",
    "               'alphas_101_alpha_031',\n",
    "               'alphas_101_alpha_033',\n",
    "               'alphas_101_alpha_034',\n",
    "               'alphas_101_alpha_037',\n",
    "               'alphas_101_alpha_039',\n",
    "               'alphas_101_alpha_044',\n",
    "               'alphas_101_alpha_046',\n",
    "               'alphas_101_alpha_052',\n",
    "               'alphas_101_alpha_054',\n",
    "               'alphas_101_alpha_068']"
   ]
  },
  {
   "cell_type": "markdown",
   "id": "99ebed75-a19c-4076-b2f3-ca3ce6a354e6",
   "metadata": {},
   "source": [
    "### GRU_model"
   ]
  },
  {
   "cell_type": "code",
   "execution_count": 3,
   "id": "e22bcefd-2e4a-4523-889c-fe9bf04366f0",
   "metadata": {},
   "outputs": [
    {
     "name": "stderr",
     "output_type": "stream",
     "text": [
      "/home/chencheng/pytorch/lib/python3.7/site-packages/tqdm/auto.py:22: TqdmWarning: IProgress not found. Please update jupyter and ipywidgets. See https://ipywidgets.readthedocs.io/en/stable/user_install.html\n",
      "  from .autonotebook import tqdm as notebook_tqdm\n"
     ]
    }
   ],
   "source": [
    "from alpha.model.GRU.scheduler import *\n",
    "opn = pd.read_hdf(os.path.join(DATA_PATH, \"Ashare_data/1day_data/pv_ffill.h5\"), key=\"open\")\n",
    "opn_r = opn.pct_change()\n",
    "opn_r = opn_r.shift(-2)"
   ]
  },
  {
   "cell_type": "code",
   "execution_count": 4,
   "id": "6b8e7d5f-e641-4bdd-9b70-cdf7bb4f66be",
   "metadata": {
    "tags": []
   },
   "outputs": [],
   "source": [
    "s_1800 = gru_scheduler(name=\"gru_0.0.4\",\n",
    "                      train_len=252*4,\n",
    "                      valid_len=252,\n",
    "                      look_back_window=10,\n",
    "                      factor_list=factor_list,\n",
    "                      universe_version=\"zz1800\",\n",
    "                      label_df=opn_r,\n",
    "                      batch_size=1,\n",
    "                      hidden_size=64,\n",
    "                      num_layers=1,\n",
    "                      lr=0.001,\n",
    "                      weight_decay=0.0001,\n",
    "                      epochs=50,\n",
    "                      max_patience=5)\n",
    "# s_1800.train(\"20210101\", \"20221231\")"
   ]
  },
  {
   "cell_type": "code",
   "execution_count": 6,
   "id": "373b81f4-1a13-46cc-93f2-aa42d03e7e55",
   "metadata": {},
   "outputs": [
    {
     "name": "stderr",
     "output_type": "stream",
     "text": [
      "100%|██████████| 485/485 [00:08<00:00, 58.35it/s]\n"
     ]
    }
   ],
   "source": [
    "loss_1800, ic_1800, df_1800 = s_1800.predict(\"20210101\", \"20221231\")"
   ]
  },
  {
   "cell_type": "code",
   "execution_count": 8,
   "id": "7b93b2b6-e18b-4562-9927-a9f3bf32c490",
   "metadata": {},
   "outputs": [
    {
     "data": {
      "text/plain": [
       "{'IC': 0.02106196326733036,\n",
       " 'Rank IC': 0.013612583992390206,\n",
       " 'ARR': 0.1869878030494284,\n",
       " 'AV': 0.036432801799142885,\n",
       " 'Sharpe': 5.132402500370627,\n",
       " 'WR': 0.639751552795031,\n",
       " 'MDD': -0.01716476012896173}"
      ]
     },
     "execution_count": 8,
     "metadata": {},
     "output_type": "execute_result"
    }
   ],
   "source": [
    "create_full_tear_sheet(df_1800.set_index([\"date\", \"stock_id\"]))"
   ]
  },
  {
   "cell_type": "markdown",
   "id": "69b60f7f-acbb-4105-a21f-a476894521df",
   "metadata": {},
   "source": [
    "### LSTM_model"
   ]
  },
  {
   "cell_type": "code",
   "execution_count": 9,
   "id": "8fef70ac-e3c1-492b-89cf-1ee4f698383d",
   "metadata": {},
   "outputs": [],
   "source": [
    "from alpha.model.LSTM.scheduler import *"
   ]
  },
  {
   "cell_type": "code",
   "execution_count": 10,
   "id": "04047e81-7b49-40df-bd9a-97cbc255d4f6",
   "metadata": {},
   "outputs": [],
   "source": [
    "opn = pd.read_hdf(os.path.join(DATA_PATH, \"Ashare_data/1day_data/pv_ffill.h5\"), key=\"open\")\n",
    "opn_r = opn.pct_change()\n",
    "opn_r = opn_r.shift(-2)"
   ]
  },
  {
   "cell_type": "code",
   "execution_count": 13,
   "id": "7ccae345-aea1-4ee7-a50c-ea496b3aa79d",
   "metadata": {},
   "outputs": [],
   "source": [
    "s_1800 = lstm_scheduler(name=\"lstm_0.0.2\",\n",
    "                       train_len=252*4,\n",
    "                       valid_len=252,\n",
    "                       look_back_window=10,\n",
    "                       factor_list=factor_list,\n",
    "                       universe_version=\"zz1800\",\n",
    "                       label_df=opn_r,\n",
    "                       batch_size=1,\n",
    "                       hidden_size=64,\n",
    "                       num_layers=1,\n",
    "                       lr=0.001,\n",
    "                       weight_decay=0.0001,\n",
    "                       epochs=50,\n",
    "                       max_patience=5)\n",
    "# s_1800.train(\"20210101\", \"20221231\")"
   ]
  },
  {
   "cell_type": "code",
   "execution_count": 14,
   "id": "5108ee70-5595-4cac-8020-c69e2eca089c",
   "metadata": {},
   "outputs": [
    {
     "name": "stderr",
     "output_type": "stream",
     "text": [
      "100%|██████████| 485/485 [00:08<00:00, 56.64it/s]\n"
     ]
    }
   ],
   "source": [
    "loss_1800, ic_1800, df_1800 = s_1800.predict(\"20210101\", \"20221231\")"
   ]
  },
  {
   "cell_type": "code",
   "execution_count": 16,
   "id": "f438198e-c6df-43fb-974c-7b8161a32dea",
   "metadata": {},
   "outputs": [
    {
     "data": {
      "text/plain": [
       "{'IC': 0.02547768975272238,\n",
       " 'Rank IC': 0.021215017376321553,\n",
       " 'ARR': 0.23558592310531734,\n",
       " 'AV': 0.03627721721815503,\n",
       " 'Sharpe': 6.494046158188168,\n",
       " 'WR': 0.6666666666666666,\n",
       " 'MDD': -0.013524563514692445}"
      ]
     },
     "execution_count": 16,
     "metadata": {},
     "output_type": "execute_result"
    }
   ],
   "source": [
    "create_full_tear_sheet(df_1800.set_index([\"date\", \"stock_id\"]))"
   ]
  },
  {
   "cell_type": "markdown",
   "id": "7f2113c5-40fc-4db0-abf8-4391c652e930",
   "metadata": {},
   "source": [
    "## Transformer"
   ]
  },
  {
   "cell_type": "code",
   "execution_count": 18,
   "id": "6b45609e-f43e-46e7-b318-5b4de4e7e847",
   "metadata": {},
   "outputs": [],
   "source": [
    "from alpha.model.Transformer.scheduler import *"
   ]
  },
  {
   "cell_type": "code",
   "execution_count": 19,
   "id": "f6c02959-46f7-4f84-a7f2-6cf8b2afa197",
   "metadata": {},
   "outputs": [],
   "source": [
    "opn = pd.read_hdf(os.path.join(DATA_PATH, \"Ashare_data/1day_data/pv_ffill.h5\"), key=\"open\")\n",
    "opn_r = opn.pct_change()\n",
    "opn_r = opn_r.shift(-2)"
   ]
  },
  {
   "cell_type": "code",
   "execution_count": 22,
   "id": "4f9cfe2a-d869-4042-9bcb-d824178f222f",
   "metadata": {},
   "outputs": [],
   "source": [
    "s_1800 = transformer_scheduler(name=\"transformer_0.0.2\",\n",
    "                              train_len=252*4,\n",
    "                              valid_len=252,\n",
    "                              look_back_window=10,\n",
    "                              factor_list=factor_list,\n",
    "                              universe_version=\"zz1800\",\n",
    "                              label_df=opn_r,\n",
    "                              batch_size=1,\n",
    "                              hidden_size=128,\n",
    "                              num_heads=4,\n",
    "                              lr=0.001,\n",
    "                              weight_decay=0.0001,\n",
    "                              epochs=50,\n",
    "                              max_patience=5)\n",
    "# s_1800.train(\"20210101\", \"20221231\")"
   ]
  },
  {
   "cell_type": "code",
   "execution_count": 23,
   "id": "04508073-6545-4925-a278-6e2db972066a",
   "metadata": {},
   "outputs": [
    {
     "name": "stderr",
     "output_type": "stream",
     "text": [
      "100%|██████████| 485/485 [00:10<00:00, 47.32it/s]\n"
     ]
    }
   ],
   "source": [
    "loss_1800, ic_1800, df_1800 = s_1800.predict(\"20210101\", \"20221231\")"
   ]
  },
  {
   "cell_type": "code",
   "execution_count": 25,
   "id": "d384742c-2de2-443b-854f-cb8c809b03de",
   "metadata": {},
   "outputs": [
    {
     "data": {
      "text/plain": [
       "{'IC': 0.02271030855586287,\n",
       " 'Rank IC': 0.03174924890953096,\n",
       " 'ARR': 0.23603097263413794,\n",
       " 'AV': 0.04388331834931299,\n",
       " 'Sharpe': 5.378603567654611,\n",
       " 'WR': 0.6625258799171843,\n",
       " 'MDD': -0.026481169185385678}"
      ]
     },
     "execution_count": 25,
     "metadata": {},
     "output_type": "execute_result"
    }
   ],
   "source": [
    "create_full_tear_sheet(df_1800.set_index([\"date\", \"stock_id\"]))"
   ]
  },
  {
   "cell_type": "markdown",
   "id": "83448a8a-257f-4058-8c17-1f916790c154",
   "metadata": {},
   "source": [
    "### GCN_model"
   ]
  },
  {
   "cell_type": "code",
   "execution_count": 28,
   "id": "e66f136d-15be-4a79-9e0d-5139e262bce2",
   "metadata": {},
   "outputs": [],
   "source": [
    "from alpha.model.LSTM_GCN.scheduler import *"
   ]
  },
  {
   "cell_type": "code",
   "execution_count": 29,
   "id": "61c3a933-c71e-4c1e-ac0d-83b4d1ef7867",
   "metadata": {},
   "outputs": [],
   "source": [
    "opn = pd.read_hdf(os.path.join(DATA_PATH, \"Ashare_data/1day_data/pv_ffill.h5\"), key=\"open\")\n",
    "opn_r = opn.pct_change()\n",
    "opn_r = opn_r.shift(-2)"
   ]
  },
  {
   "cell_type": "code",
   "execution_count": 30,
   "id": "2f4c0a81-de84-4861-b18d-f66d6ef0c975",
   "metadata": {
    "tags": []
   },
   "outputs": [],
   "source": [
    "s_1800 = lstm_gcn_scheduler(name=\"gcn_1800\",\n",
    "                           train_len=252*4,\n",
    "                           valid_len=252,\n",
    "                           look_back_window=10,\n",
    "                           factor_list=factor_list,\n",
    "                           universe_version=\"zz1800\",\n",
    "                           label_df=opn_r,\n",
    "                           batch_size=1,\n",
    "                           hidden_size=64,\n",
    "                           out_features=64,\n",
    "                           num_layers=1,\n",
    "                           lr=0.001,\n",
    "                           weight_decay=0.0001,\n",
    "                           epochs=50,\n",
    "                           max_patience=5)\n",
    "# s_1800.train(\"20210101\", \"20221231\")"
   ]
  },
  {
   "cell_type": "code",
   "execution_count": null,
   "id": "f24d2c6a-be05-4ad7-86aa-213a835fc90a",
   "metadata": {
    "tags": []
   },
   "outputs": [
    {
     "name": "stderr",
     "output_type": "stream",
     "text": [
      " 94%|█████████▍| 456/485 [20:58<01:21,  2.82s/it]"
     ]
    }
   ],
   "source": [
    "loss_1800, ic_1800, df_1800 = s_1800.predict(\"20210101\", \"20221231\")"
   ]
  },
  {
   "cell_type": "code",
   "execution_count": 39,
   "id": "9b7a15d1-4223-431f-ba6d-758ffae61922",
   "metadata": {},
   "outputs": [
    {
     "data": {
      "text/plain": [
       "{'IC': 0.034629066397472826,\n",
       " 'Rank IC': 0.038370673624229454,\n",
       " 'ARR': 0.33210179140254326,\n",
       " 'AV': 0.04591942384488113,\n",
       " 'Sharpe': 7.232272611355168,\n",
       " 'WR': 0.6915113871635611,\n",
       " 'MDD': -0.018988619331448242}"
      ]
     },
     "execution_count": 39,
     "metadata": {},
     "output_type": "execute_result"
    }
   ],
   "source": [
    "create_full_tear_sheet(df_1800.set_index([\"date\", \"stock_id\"]))"
   ]
  },
  {
   "cell_type": "markdown",
   "id": "c0ac4596-67b4-427d-b75e-2dc8ddc412b1",
   "metadata": {},
   "source": [
    "### GAT_model"
   ]
  },
  {
   "cell_type": "code",
   "execution_count": 40,
   "id": "4a307ad0-6c8d-4b0a-a1a5-9108add4e32e",
   "metadata": {},
   "outputs": [],
   "source": [
    "from alpha.model.TGC.scheduler import *"
   ]
  },
  {
   "cell_type": "code",
   "execution_count": 41,
   "id": "a06ee5ff-0985-4fd6-96f9-5e3ae90fe160",
   "metadata": {},
   "outputs": [],
   "source": [
    "opn = pd.read_hdf(os.path.join(DATA_PATH, \"Ashare_data/1day_data/pv_ffill.h5\"), key=\"open\")\n",
    "opn_r = opn.pct_change()\n",
    "opn_r = opn_r.shift(-2)"
   ]
  },
  {
   "cell_type": "code",
   "execution_count": 44,
   "id": "a586e1e1-d633-4729-b41a-94dd68f5094e",
   "metadata": {},
   "outputs": [],
   "source": [
    "s_1800 = TGC_scheduler(name=\"gat_1800\",\n",
    "                      train_len=252*4,\n",
    "                      valid_len=252,\n",
    "                      look_back_window=10,\n",
    "                      factor_list=factor_list,\n",
    "                      universe_version=\"zz1800\",\n",
    "                      label_df=opn_r,\n",
    "                      batch_size=1,\n",
    "                      hidden_size=64,\n",
    "                      out_features=64,\n",
    "                      num_heads=4,\n",
    "                      num_layers=1,\n",
    "                      lr=0.001,\n",
    "                      weight_decay=0.0001,\n",
    "                      epochs=10,\n",
    "                      max_patience=2)\n",
    "# s_1800.train(\"20210101\", \"20221231\")"
   ]
  },
  {
   "cell_type": "code",
   "execution_count": null,
   "id": "cde50cc2-a393-4333-8e35-dccb3dbbc8fd",
   "metadata": {},
   "outputs": [
    {
     "name": "stderr",
     "output_type": "stream",
     "text": [
      " 29%|██▉       | 141/485 [06:17<15:22,  2.68s/it]"
     ]
    }
   ],
   "source": [
    "loss_1800, ic_1800, df_1800 = s_1800.predict(\"20210101\", \"20221231\")"
   ]
  },
  {
   "cell_type": "code",
   "execution_count": 47,
   "id": "b9c17555-272e-44bd-a69b-7e1fdbd5c45d",
   "metadata": {},
   "outputs": [
    {
     "data": {
      "text/plain": [
       "{'IC': 0.03259701332447597,\n",
       " 'Rank IC': 0.03238575249741988,\n",
       " 'ARR': 0.3253847154328494,\n",
       " 'AV': 0.04020976632602524,\n",
       " 'Sharpe': 8.092181207784051,\n",
       " 'WR': 0.7080745341614907,\n",
       " 'MDD': -0.011309316748733922}"
      ]
     },
     "execution_count": 47,
     "metadata": {},
     "output_type": "execute_result"
    }
   ],
   "source": [
    "create_full_tear_sheet(df_1800.set_index([\"date\", \"stock_id\"]))"
   ]
  },
  {
   "cell_type": "markdown",
   "id": "6f88cde2-07f9-4671-83ae-638878856e16",
   "metadata": {},
   "source": [
    "### HGNN_model"
   ]
  },
  {
   "cell_type": "code",
   "execution_count": 30,
   "id": "56870e0a-587e-493c-8c17-0b76ccf5a4cd",
   "metadata": {},
   "outputs": [],
   "source": [
    "from alpha.model.HATS.scheduler import *"
   ]
  },
  {
   "cell_type": "code",
   "execution_count": 31,
   "id": "f09a1c3c-48e2-49c5-8892-a95fe6f9ef36",
   "metadata": {},
   "outputs": [],
   "source": [
    "opn = pd.read_hdf(os.path.join(DATA_PATH, \"Ashare_data/1day_data/pv_ffill.h5\"), key=\"open\")\n",
    "opn_r = opn.pct_change()\n",
    "opn_r = opn_r.shift(-2)"
   ]
  },
  {
   "cell_type": "code",
   "execution_count": 32,
   "id": "402bdf26-0e03-4822-955d-07f991c6f9c7",
   "metadata": {},
   "outputs": [],
   "source": [
    "s_1800 = hats_scheduler(name=\"hgnn_1800\",\n",
    "                           train_len=252*4,\n",
    "                           valid_len=252,\n",
    "                           look_back_window=10,\n",
    "                           factor_list=factor_list,\n",
    "                           universe_version=\"zz1800\",\n",
    "                           label_df=opn_r,\n",
    "                           batch_size=1,\n",
    "                           hidden_size=64,\n",
    "                           out_features=64,\n",
    "                           num_layers=1,\n",
    "                           lr=0.001,\n",
    "                           weight_decay=0.0001,\n",
    "                           epochs=50,\n",
    "                           max_patience=5)\n",
    "# s_800.train(\"20210101\", \"20221231\")"
   ]
  },
  {
   "cell_type": "code",
   "execution_count": 33,
   "id": "337a991e-4655-4c88-a1d4-2d32f867aba4",
   "metadata": {},
   "outputs": [
    {
     "name": "stderr",
     "output_type": "stream",
     "text": [
      "100%|██████████| 485/485 [15:28<00:00,  1.91s/it]\n"
     ]
    }
   ],
   "source": [
    "loss_1800, ic_1800, df_1800 = s_1800.predict(\"20210101\", \"20221231\")"
   ]
  },
  {
   "cell_type": "code",
   "execution_count": 34,
   "id": "e23f17b5-c622-481c-806d-985ae0a6b48c",
   "metadata": {},
   "outputs": [
    {
     "data": {
      "text/plain": [
       "{'IC': 0.029917245538544312,\n",
       " 'Rank IC': 0.033432209326551506,\n",
       " 'ARR': 0.2732441926230253,\n",
       " 'AV': 0.04900610525479856,\n",
       " 'Sharpe': 5.575717376484839,\n",
       " 'WR': 0.6645962732919255,\n",
       " 'MDD': -0.02577505564315674}"
      ]
     },
     "execution_count": 34,
     "metadata": {},
     "output_type": "execute_result"
    }
   ],
   "source": [
    "create_full_tear_sheet(df_1800.set_index([\"date\", \"stock_id\"]))"
   ]
  },
  {
   "cell_type": "markdown",
   "id": "c75d0b14-368c-4af6-8907-6740bb140012",
   "metadata": {},
   "source": [
    "### backtest"
   ]
  },
  {
   "cell_type": "code",
   "execution_count": 48,
   "id": "e3596003-2596-4f21-aca8-39bb10dbaa0c",
   "metadata": {},
   "outputs": [],
   "source": [
    "from alpha.eval.eval import *\n",
    "from alpha.eval.backtest import *\n",
    "from alpha.eval.attention_plot import *"
   ]
  },
  {
   "cell_type": "code",
   "execution_count": 49,
   "id": "2e5cbe01-eb00-4642-a9cc-f9413896490c",
   "metadata": {},
   "outputs": [],
   "source": [
    "def plot_net_value(profit_series_list, labels, fig_size=(20, 5), title='Net Value Curve', x_label='Date', y_label='Net Value', line_width=1.5):\n",
    "    \"\"\"\n",
    "    画净值曲线函数\n",
    "\n",
    "    参数：\n",
    "    profit_series_list: list，包含多个 pd.Series 类型的列表，每个 Series 代表一个净值序列\n",
    "    fig_size: tuple，画布大小，默认为 (10, 6)\n",
    "    title: str，图表标题，默认为 'Net Value Curve'\n",
    "    x_label: str，x轴标签，默认为 'Date'\n",
    "    y_label: str，y轴标签，默认为 'Net Value'\n",
    "\n",
    "    返回：\n",
    "    None\n",
    "    \"\"\"\n",
    "    plt.figure(figsize=fig_size)\n",
    "    # 遍历每个净值序列，计算其投资组合价值的时间序列数据，然后画出净值曲线\n",
    "    for i, profit_series in enumerate(profit_series_list):\n",
    "        net_value_series = profit_series.cumsum()\n",
    "        plt.plot(net_value_series, label=labels[i], linewidth=line_width, )\n",
    "\n",
    "    # 添加图例\n",
    "    # 设置图表属性\n",
    "    # plt.title(title)\n",
    "    # plt.xlabel(x_label)\n",
    "    # plt.ylabel(y_label)\n",
    "    plt.legend()\n",
    "    locator = AutoDateLocator()\n",
    "    formatter = AutoDateFormatter(locator)\n",
    "    plt.gca().xaxis.set_major_locator(locator)\n",
    "    plt.gca().xaxis.set_major_formatter(formatter)\n",
    "    plt.show()"
   ]
  },
  {
   "cell_type": "code",
   "execution_count": 52,
   "id": "577e127f-21a1-44b1-b988-1c9373dc765a",
   "metadata": {},
   "outputs": [
    {
     "data": {
      "image/png": "[encoded data removed]",
      "text/plain": [
       "<Figure size 1440x360 with 1 Axes>"
      ]
     },
     "metadata": {
      "needs_background": "light"
     },
     "output_type": "display_data"
    }
   ],
   "source": [
    "b = BackTest(1000000, 0.001, 0.001)\n",
    "\n",
    "lstm = pd.read_csv(\"/home/chencheng/lstm_1800/info_20210101_20221231.csv\", index_col=0)\n",
    "ret_lstm = b.get_daily_pnl(lstm, 0.1)\n",
    "ret_lstm.index = pd.to_datetime(ret_lstm.index, format=\"%Y%m%d\")\n",
    "\n",
    "\n",
    "gru = pd.read_csv(\"/home/chencheng/gru_1800/info_20210101_20221231.csv\", index_col=0)\n",
    "ret_gru = b.get_daily_pnl(gru, 0.1)\n",
    "ret_gru.index = pd.to_datetime(ret_gru.index, format=\"%Y%m%d\")\n",
    "\n",
    "\n",
    "ts = pd.read_csv(\"/home/chencheng/transformer_1800/info_20210101_20221231.csv\", index_col=0)\n",
    "ret_ts = b.get_daily_pnl(ts, 0.1)\n",
    "ret_ts.index = pd.to_datetime(ret_ts.index, format=\"%Y%m%d\")\n",
    "\n",
    "gcn = pd.read_csv(\"/home/chencheng/gcn_1800/info_20210101_20221231.csv\", index_col=0)\n",
    "ret_gcn = b.get_daily_pnl(gcn, 0.1)\n",
    "ret_gcn.index = pd.to_datetime(ret_gcn.index, format=\"%Y%m%d\")\n",
    "\n",
    "tgc = pd.read_csv(\"/home/chencheng/gat_1800/info_20210101_20221231.csv\", index_col=0)\n",
    "ret_tgc = b.get_daily_pnl(tgc, 0.1)\n",
    "ret_tgc.index = pd.to_datetime(ret_tgc.index, format=\"%Y%m%d\")\n",
    "\n",
    "hats = pd.read_csv(\"/home/chencheng/hgnn_1800/info_20210101_20221231.csv\", index_col=0)\n",
    "ret_hats = b.get_daily_pnl(hats, 0.1)\n",
    "ret_hats.index = pd.to_datetime(ret_hats.index, format=\"%Y%m%d\")\n",
    "\n",
    "\n",
    "zz1800 = gru.groupby(\"date\")[\"ret\"].mean().shift(1).fillna(0)\n",
    "zz1800.index = pd.to_datetime(zz800.index, format=\"%Y%m%d\")\n",
    "\n",
    "plot_net_value([ret_hats, ret_tgc, ret_gcn, ret_lstm, ret_ts, ret_gru, zz1800], [\"HGNN\", \"GAT\", \"GCN\", \"LSTM\", \"Transformer\", \"GRU\", \"CSI 1800\"])"
   ]
  },
  {
   "cell_type": "code",
   "execution_count": null,
   "id": "ad0a7d1b-e935-4a59-ae9c-23e0a2d74ece",
   "metadata": {},
   "outputs": [],
   "source": []
  }
 ],
 "metadata": {
  "kernelspec": {
   "display_name": "pytorch",
   "language": "python",
   "name": "pytorch"
  },
  "language_info": {
   "codemirror_mode": {
    "name": "ipython",
    "version": 3
   },
   "file_extension": ".py",
   "mimetype": "text/x-python",
   "name": "python",
   "nbconvert_exporter": "python",
   "pygments_lexer": "ipython3",
   "version": "3.7.12"
  }
 },
 "nbformat": 4,
 "nbformat_minor": 5
}
